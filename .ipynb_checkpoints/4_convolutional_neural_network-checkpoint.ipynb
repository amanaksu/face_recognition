{
 "cells": [
  {
   "cell_type": "markdown",
   "metadata": {},
   "source": [
    "# CONVOLUTIONAL NEURAL NETWORK\n",
    "## FOR FACE RECOGNITION"
   ]
  },
  {
   "cell_type": "code",
   "execution_count": 1,
   "metadata": {
    "collapsed": false
   },
   "outputs": [
    {
     "name": "stdout",
     "output_type": "stream",
     "text": [
      "Packages loaded\n"
     ]
    }
   ],
   "source": [
    "import os\n",
    "import numpy as np\n",
    "import tensorflow as tf\n",
    "import matplotlib.pyplot as plt\n",
    "%matplotlib inline  \n",
    "print (\"Packages loaded\")"
   ]
  },
  {
   "cell_type": "markdown",
   "metadata": {},
   "source": [
    "# LOAD DATA"
   ]
  },
  {
   "cell_type": "code",
   "execution_count": 2,
   "metadata": {
    "collapsed": false
   },
   "outputs": [
    {
     "name": "stdout",
     "output_type": "stream",
     "text": [
      "['trainimg', 'imgsize', 'testlabel', 'trainlabel', 'testimg']\n",
      "544 TRAIN IMAGES\n",
      "137 TEST IMAGES\n",
      "6912 DIMENSIONAL INPUT\n",
      "4 CLASSES\n"
     ]
    }
   ],
   "source": [
    "# LOAD DATA\n",
    "cwd = os.getcwd()\n",
    "loadpath = cwd + \"/data.npz\"\n",
    "l = np.load(loadpath)\n",
    "print (l.files)\n",
    "\n",
    "# PARSE LOADED DATA\n",
    "trainimg   = l['trainimg']\n",
    "trainlabel = l['trainlabel']\n",
    "testimg    = l['testimg']\n",
    "testlabel  = l['testlabel']\n",
    "imgsize    = l['imgsize']\n",
    "ntrain = trainimg.shape[0]\n",
    "nclass = trainlabel.shape[1]\n",
    "dim    = trainimg.shape[1]\n",
    "ntest  = testimg.shape[0]\n",
    "print (\"%d TRAIN IMAGES\" % (ntrain))\n",
    "print (\"%d TEST IMAGES\" % (ntest))\n",
    "print (\"%d DIMENSIONAL INPUT\" % (dim))\n",
    "print (\"%d CLASSES\" % (nclass))"
   ]
  },
  {
   "cell_type": "markdown",
   "metadata": {},
   "source": [
    "# DEFINE MODEL"
   ]
  },
  {
   "cell_type": "code",
   "execution_count": 3,
   "metadata": {
    "collapsed": false
   },
   "outputs": [
    {
     "name": "stdout",
     "output_type": "stream",
     "text": [
      "CNN PARAMETERS READY\n"
     ]
    }
   ],
   "source": [
    "tf.set_random_seed(0)\n",
    "\n",
    "# MULTILAYER PERCEPTRON MODEL\n",
    "n_input    = dim    # INPUT LAYER DIMENSION\n",
    "n_filter1  = 64     # NUMBER OF FILTERS IN CONV1 \n",
    "n_filter2  = 128    # NUMBER OF FILTERS IN CONV2\n",
    "n_hid      = 256    # NUMBER OF HIDDEN LAYER NODES\n",
    "n_output   = nclass # OUTPUT LAYER DIMENSION\n",
    "x = tf.placeholder(\"float\", [None, dim]) \n",
    "y = tf.placeholder(\"float\", [None, nclass]) \n",
    "\n",
    "std = 0.1\n",
    "W = {\n",
    "    'wc1': tf.Variable(tf.random_normal([5, 5, 3, n_filter1], stddev=std)),\n",
    "    'wc2': tf.Variable(tf.random_normal([5, 5, n_filter1, n_filter2], stddev=std)),\n",
    "    'wd1': tf.Variable(tf.random_normal(\n",
    "            [(int)(imgsize[0]/4*imgsize[1]/4)*n_filter2, n_hid], stddev=std)),\n",
    "    'wd2': tf.Variable(tf.random_normal([n_hid, n_output], stddev=std))\n",
    "}\n",
    "b = {\n",
    "    'bc1': tf.Variable(tf.random_normal([n_filter1], stddev=std)),\n",
    "    'bc2': tf.Variable(tf.random_normal([n_filter2], stddev=std)),\n",
    "    'bd1': tf.Variable(tf.random_normal([n_hid], stddev=std)),\n",
    "    'bd2': tf.Variable(tf.random_normal([n_output], stddev=std))\n",
    "}\n",
    "x = tf.placeholder(\"float\", [None, dim]) \n",
    "y = tf.placeholder(\"float\", [None, nclass]) \n",
    "keepratio = tf.placeholder(tf.float32)\n",
    "\n",
    "print (\"CNN PARAMETERS READY\")"
   ]
  },
  {
   "cell_type": "code",
   "execution_count": 4,
   "metadata": {
    "collapsed": false
   },
   "outputs": [
    {
     "name": "stdout",
     "output_type": "stream",
     "text": [
      "CONVOLUTIONAL NEURAL NETWORK MODEL READY\n"
     ]
    }
   ],
   "source": [
    "def convolutional_neural_network(_x, _w, _b, _imgsize, _keepratio):\n",
    "    _input_r = tf.reshape(_x, shape=[-1, _imgsize[0], _imgsize[1], 3])\n",
    "    # CONVOLUTION LAYER 1\n",
    "    _conv1 = tf.nn.relu(tf.nn.bias_add(tf.nn.conv2d(_input_r\n",
    "        , _w['wc1'], strides=[1, 1, 1, 1], padding='SAME'), _b['bc1']))\n",
    "    _pool1 = tf.nn.max_pool(_conv1, ksize=[1, 2, 2, 1]\n",
    "        , strides=[1, 2, 2, 1], padding='SAME')\n",
    "    # CONVOLUTION LAYER 2\n",
    "    _conv2 = tf.nn.relu(tf.nn.bias_add(tf.nn.conv2d(_pool1\n",
    "        , _w['wc2'], strides=[1, 1, 1, 1], padding='SAME'), _b['bc2']))\n",
    "    _pool2 = tf.nn.max_pool(_conv2, ksize=[1, 2, 2, 1]\n",
    "        , strides=[1, 2, 2, 1], padding='SAME')\n",
    "    _dense1 = tf.reshape(_pool2\n",
    "                         , [-1, _w['wd1'].get_shape().as_list()[0]])\n",
    "    # DENSE LAYER 1\n",
    "    _fc1 = tf.nn.relu(tf.add(tf.matmul(_dense1, _w['wd1']), _b['bd1']))\n",
    "    _fc_dr1 = tf.nn.dropout(_fc1, _keepratio)\n",
    "    # OUTPUT LAYER 2\n",
    "    _out = tf.add(tf.matmul(_fc_dr1, _w['wd2']), _b['bd2'])\n",
    "    # RETURN\n",
    "    out = {\n",
    "        'input_r': _input_r, 'conv1': _conv1, 'pool1': _pool1\n",
    "        , 'conv2': _conv2, 'pool2': _pool2\n",
    "        , 'dense1': _dense1, 'fc1': _fc1, 'fc_dr1': _fc_dr1, 'out': _out\n",
    "    }\n",
    "    return out\n",
    "print (\"CONVOLUTIONAL NEURAL NETWORK MODEL READY\")"
   ]
  },
  {
   "cell_type": "markdown",
   "metadata": {},
   "source": [
    "# DEFINE FUNCTIONS"
   ]
  },
  {
   "cell_type": "code",
   "execution_count": 5,
   "metadata": {
    "collapsed": false
   },
   "outputs": [
    {
     "ename": "NameError",
     "evalue": "name '_pool_dr1' is not defined",
     "output_type": "error",
     "traceback": [
      "\u001b[1;31m---------------------------------------------------------------------------\u001b[0m",
      "\u001b[1;31mNameError\u001b[0m                                 Traceback (most recent call last)",
      "\u001b[1;32m<ipython-input-5-ffe90937cfb1>\u001b[0m in \u001b[0;36m<module>\u001b[1;34m()\u001b[0m\n\u001b[0;32m      1\u001b[0m \u001b[0mlearning_rate\u001b[0m \u001b[1;33m=\u001b[0m \u001b[1;36m0.001\u001b[0m\u001b[1;33m\u001b[0m\u001b[0m\n\u001b[1;32m----> 2\u001b[1;33m \u001b[0mpred\u001b[0m \u001b[1;33m=\u001b[0m \u001b[0mconvolutional_neural_network\u001b[0m\u001b[1;33m(\u001b[0m\u001b[0mx\u001b[0m\u001b[1;33m,\u001b[0m \u001b[0mW\u001b[0m\u001b[1;33m,\u001b[0m \u001b[0mb\u001b[0m\u001b[1;33m,\u001b[0m \u001b[0mimgsize\u001b[0m\u001b[1;33m,\u001b[0m \u001b[0mkeepratio\u001b[0m\u001b[1;33m)\u001b[0m\u001b[1;33m[\u001b[0m\u001b[1;34m'out'\u001b[0m\u001b[1;33m]\u001b[0m\u001b[1;33m\u001b[0m\u001b[0m\n\u001b[0m\u001b[0;32m      3\u001b[0m \u001b[0mce_cost\u001b[0m \u001b[1;33m=\u001b[0m \u001b[0mtf\u001b[0m\u001b[1;33m.\u001b[0m\u001b[0mreduce_mean\u001b[0m\u001b[1;33m(\u001b[0m\u001b[0mtf\u001b[0m\u001b[1;33m.\u001b[0m\u001b[0mnn\u001b[0m\u001b[1;33m.\u001b[0m\u001b[0msoftmax_cross_entropy_with_logits\u001b[0m\u001b[1;33m(\u001b[0m\u001b[0mpred\u001b[0m\u001b[1;33m,\u001b[0m \u001b[0my\u001b[0m\u001b[1;33m)\u001b[0m\u001b[1;33m)\u001b[0m\u001b[1;33m\u001b[0m\u001b[0m\n\u001b[0;32m      4\u001b[0m \u001b[0mWEIGHT_DECAY_FACTOR\u001b[0m \u001b[1;33m=\u001b[0m \u001b[1;36m0.001\u001b[0m\u001b[1;33m\u001b[0m\u001b[0m\n\u001b[0;32m      5\u001b[0m l2_loss = tf.add_n([tf.nn.l2_loss(v) \n",
      "\u001b[1;32m<ipython-input-4-146b697e4acb>\u001b[0m in \u001b[0;36mconvolutional_neural_network\u001b[1;34m(_x, _w, _b, _imgsize, _keepratio)\u001b[0m\n\u001b[0;32m     21\u001b[0m     out = {\n\u001b[0;32m     22\u001b[0m         \u001b[1;34m'input_r'\u001b[0m\u001b[1;33m:\u001b[0m \u001b[0m_input_r\u001b[0m\u001b[1;33m,\u001b[0m \u001b[1;34m'conv1'\u001b[0m\u001b[1;33m:\u001b[0m \u001b[0m_conv1\u001b[0m\u001b[1;33m,\u001b[0m \u001b[1;34m'pool1'\u001b[0m\u001b[1;33m:\u001b[0m \u001b[0m_pool1\u001b[0m\u001b[1;33m\u001b[0m\u001b[0m\n\u001b[1;32m---> 23\u001b[1;33m         \u001b[1;33m,\u001b[0m \u001b[1;34m'pool1_dr1'\u001b[0m\u001b[1;33m:\u001b[0m \u001b[0m_pool_dr1\u001b[0m\u001b[1;33m,\u001b[0m \u001b[1;34m'conv2'\u001b[0m\u001b[1;33m:\u001b[0m \u001b[0m_conv2\u001b[0m\u001b[1;33m,\u001b[0m \u001b[1;34m'pool2'\u001b[0m\u001b[1;33m:\u001b[0m \u001b[0m_pool2\u001b[0m\u001b[1;33m\u001b[0m\u001b[0m\n\u001b[0m\u001b[0;32m     24\u001b[0m         \u001b[1;33m,\u001b[0m \u001b[1;34m'pool_dr2'\u001b[0m\u001b[1;33m:\u001b[0m \u001b[0m_pool_dr2\u001b[0m\u001b[1;33m,\u001b[0m \u001b[1;34m'dense1'\u001b[0m\u001b[1;33m:\u001b[0m \u001b[0m_dense1\u001b[0m\u001b[1;33m,\u001b[0m \u001b[1;34m'fc1'\u001b[0m\u001b[1;33m:\u001b[0m \u001b[0m_fc1\u001b[0m\u001b[1;33m\u001b[0m\u001b[0m\n\u001b[0;32m     25\u001b[0m         \u001b[1;33m,\u001b[0m \u001b[1;34m'fc_dr1'\u001b[0m\u001b[1;33m:\u001b[0m \u001b[0m_fc_dr1\u001b[0m\u001b[1;33m,\u001b[0m \u001b[1;34m'out'\u001b[0m\u001b[1;33m:\u001b[0m \u001b[0m_out\u001b[0m\u001b[1;33m\u001b[0m\u001b[0m\n",
      "\u001b[1;31mNameError\u001b[0m: name '_pool_dr1' is not defined"
     ]
    }
   ],
   "source": [
    "learning_rate = 0.001\n",
    "pred = convolutional_neural_network(x, W, b, imgsize, keepratio)['out']\n",
    "ce_cost = tf.reduce_mean(tf.nn.softmax_cross_entropy_with_logits(pred, y)) \n",
    "WEIGHT_DECAY_FACTOR = 0.001\n",
    "l2_loss = tf.add_n([tf.nn.l2_loss(v) \n",
    "            for v in tf.trainable_variables()])\n",
    "cost = ce_cost + WEIGHT_DECAY_FACTOR*l2_loss\n",
    "optm = tf.train.AdamOptimizer(learning_rate).minimize(cost) \n",
    "corr = tf.equal(tf.argmax(pred, 1), tf.argmax(y, 1))    \n",
    "accr = tf.reduce_mean(tf.cast(corr, tf.float32))\n",
    "init = tf.initialize_all_variables()\n",
    "print (\"FUNCTIONS READY\")"
   ]
  },
  {
   "cell_type": "markdown",
   "metadata": {},
   "source": [
    "# RUN"
   ]
  },
  {
   "cell_type": "code",
   "execution_count": null,
   "metadata": {
    "collapsed": false
   },
   "outputs": [],
   "source": [
    "# PARAMETERS\n",
    "batch_size      = 50\n",
    "display_step    = 20\n",
    "training_epochs = 200\n",
    "\n",
    "# LAUNCH THE GRAPH\n",
    "sess = tf.Session()\n",
    "sess.run(init)\n",
    "for epoch in range(training_epochs):\n",
    "    avg_cost = 0.\n",
    "    num_batch = int(ntrain/batch_size)\n",
    "    for i in range(num_batch): \n",
    "        randidx  = np.random.randint(ntrain, size=batch_size)\n",
    "        batch_xs = trainimg[randidx, :]\n",
    "        batch_ys = trainlabel[randidx, :]                \n",
    "        feeds    = {x: batch_xs, y: batch_ys, keepratio: 0.6}\n",
    "        # OPTIMIZE VARIABLES\n",
    "        sess.run(optm, feed_dict=feeds)\n",
    "        # COMPUTE LOSS\n",
    "        avg_cost += sess.run(cost, feed_dict=feeds)/num_batch\n",
    "\n",
    "    # PRINT CURRENT STATUS\n",
    "    if epoch % display_step == 0:\n",
    "        print (\"Epoch: %03d/%03d cost: %.9f\" % \n",
    "               (epoch, training_epochs, avg_cost))\n",
    "        feeds = {x: trainimg, y: trainlabel, keepratio: 1.0}\n",
    "        train_acc = sess.run(accr, feed_dict=feeds)\n",
    "        feeds = {x: testimg, y: testlabel, keepratio: 1.0}\n",
    "        test_acc = sess.run(accr, feed_dict=feeds)\n",
    "        print (\" TRAIN ACCURACY: %.3f\" % (train_acc))\n",
    "        print (\" TEST ACCURACY: %.3f\" % (test_acc))\n",
    "        \n",
    "print (\"OPTIMIZATION FINISHED\")"
   ]
  }
 ],
 "metadata": {
  "kernelspec": {
   "display_name": "Python 3",
   "language": "python",
   "name": "python3"
  },
  "language_info": {
   "codemirror_mode": {
    "name": "ipython",
    "version": 3
   },
   "file_extension": ".py",
   "mimetype": "text/x-python",
   "name": "python",
   "nbconvert_exporter": "python",
   "pygments_lexer": "ipython3",
   "version": "3.4.3"
  }
 },
 "nbformat": 4,
 "nbformat_minor": 0
}
