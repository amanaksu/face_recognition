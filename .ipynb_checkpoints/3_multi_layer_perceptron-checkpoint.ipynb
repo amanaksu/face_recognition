{
 "cells": [
  {
   "cell_type": "markdown",
   "metadata": {},
   "source": [
    "# MULTI-LAYER PERCEPTRON\n",
    "## FOR FACE RECOGNITION"
   ]
  },
  {
   "cell_type": "code",
   "execution_count": 1,
   "metadata": {
    "collapsed": false
   },
   "outputs": [
    {
     "name": "stdout",
     "output_type": "stream",
     "text": [
      "Packages loaded\n"
     ]
    }
   ],
   "source": [
    "import os\n",
    "import numpy as np\n",
    "import tensorflow as tf\n",
    "import matplotlib.pyplot as plt\n",
    "%matplotlib inline  \n",
    "print (\"Packages loaded\")"
   ]
  },
  {
   "cell_type": "markdown",
   "metadata": {},
   "source": [
    "# LOAD DATA"
   ]
  },
  {
   "cell_type": "code",
   "execution_count": 2,
   "metadata": {
    "collapsed": false
   },
   "outputs": [
    {
     "name": "stdout",
     "output_type": "stream",
     "text": [
      "['trainimg', 'testlabel', 'imgsize', 'testimg', 'trainlabel']\n",
      "544 TRAIN IMAGES\n",
      "137 TEST IMAGES\n",
      "49152 DIMENSIONAL INPUT\n",
      "4 CLASSES\n"
     ]
    }
   ],
   "source": [
    "# LOAD DATA\n",
    "cwd = os.getcwd()\n",
    "loadpath = cwd + \"/data.npz\"\n",
    "l = np.load(loadpath)\n",
    "print (l.files)\n",
    "\n",
    "# PARSE LOADED DATA\n",
    "trainimg   = l['trainimg']\n",
    "trainlabel = l['trainlabel']\n",
    "testimg    = l['testimg']\n",
    "testlabel  = l['testlabel']\n",
    "ntrain = trainimg.shape[0]\n",
    "nclass = trainlabel.shape[1]\n",
    "dim    = trainimg.shape[1]\n",
    "ntest  = testimg.shape[0]\n",
    "print (\"%d TRAIN IMAGES\" % (ntrain))\n",
    "print (\"%d TEST IMAGES\" % (ntest))\n",
    "print (\"%d DIMENSIONAL INPUT\" % (dim))\n",
    "print (\"%d CLASSES\" % (nclass))"
   ]
  },
  {
   "cell_type": "markdown",
   "metadata": {},
   "source": [
    "# DEFINE MODEL"
   ]
  },
  {
   "cell_type": "code",
   "execution_count": 3,
   "metadata": {
    "collapsed": false
   },
   "outputs": [
    {
     "name": "stdout",
     "output_type": "stream",
     "text": [
      "MULTILAYER PERCEPTRON MODEL READY\n"
     ]
    }
   ],
   "source": [
    "tf.set_random_seed(0)\n",
    "\n",
    "# MULTILAYER PERCEPTRON MODEL\n",
    "n_input    = dim    # INPUT LAYER DIMENSION\n",
    "n_hid1     = 512    # 1ST HIDDEN LAYER DIMENSION\n",
    "n_hid2     = 256    # 2ND HIDDEN LATER DIMENSION\n",
    "n_output   = nclass # OUTPUT LAYER DIMENSION\n",
    "x = tf.placeholder(\"float\", [None, dim]) \n",
    "y = tf.placeholder(\"float\", [None, nclass]) \n",
    "std = 0.1 \n",
    "W = {\n",
    "    'h1': tf.Variable(tf.random_normal([n_input, n_hid1], stddev=std)),\n",
    "    'h2': tf.Variable(tf.random_normal([n_hid1, n_hid2], stddev=std)),\n",
    "    'out': tf.Variable(tf.random_normal([n_hid2, n_output], stddev=std))\n",
    "}\n",
    "b = {\n",
    "    'b1': tf.Variable(tf.random_normal([n_hid1])),\n",
    "    'b2': tf.Variable(tf.random_normal([n_hid2])),\n",
    "    'out': tf.Variable(tf.random_normal([n_output]))\n",
    "}\n",
    "def multilayer_perceptron(_x, _W, _b):\n",
    "    layer_1 = tf.nn.relu(tf.add(tf.matmul(_x, _W['h1']), _b['b1'])) \n",
    "    layer_2 = tf.nn.relu(tf.add(tf.matmul(layer_1, _W['h2']), _b['b2']))\n",
    "    return tf.matmul(layer_2, _W['out']) + _b['out']\n",
    "print (\"MULTILAYER PERCEPTRON MODEL READY\")"
   ]
  },
  {
   "cell_type": "markdown",
   "metadata": {},
   "source": [
    "# DEFINE FUNCTIONS "
   ]
  },
  {
   "cell_type": "code",
   "execution_count": null,
   "metadata": {
    "collapsed": false
   },
   "outputs": [
    {
     "name": "stdout",
     "output_type": "stream",
     "text": [
      "FUNCTIONS READY\n"
     ]
    }
   ],
   "source": [
    "learning_rate = 0.001\n",
    "pred = multilayer_perceptron(x, W, b)\n",
    "ce_cost = tf.reduce_mean(tf.nn.softmax_cross_entropy_with_logits(pred, y)) \n",
    "WEIGHT_DECAY_FACTOR = 0.001 \n",
    "l2_loss = tf.add_n([tf.nn.l2_loss(v) \n",
    "            for v in tf.trainable_variables()])\n",
    "cost = ce_cost + WEIGHT_DECAY_FACTOR*l2_loss\n",
    "optm = tf.train.AdamOptimizer(learning_rate).minimize(cost) \n",
    "corr = tf.equal(tf.argmax(pred, 1), tf.argmax(y, 1))    \n",
    "accr = tf.reduce_mean(tf.cast(corr, tf.float32))\n",
    "init = tf.initialize_all_variables()\n",
    "print (\"FUNCTIONS READY\")"
   ]
  },
  {
   "cell_type": "markdown",
   "metadata": {},
   "source": [
    "# RUN"
   ]
  },
  {
   "cell_type": "code",
   "execution_count": null,
   "metadata": {
    "collapsed": false
   },
   "outputs": [
    {
     "name": "stdout",
     "output_type": "stream",
     "text": [
      "Epoch: 000/200 cost: 54.950691414\n",
      " TRAIN ACCURACY: 0.790\n",
      " TEST ACCURACY: 0.854\n",
      "Epoch: 020/200 cost: 0.741255866\n",
      " TRAIN ACCURACY: 0.952\n",
      " TEST ACCURACY: 0.912\n",
      "Epoch: 040/200 cost: 0.024008337\n",
      " TRAIN ACCURACY: 0.998\n",
      " TEST ACCURACY: 0.942\n",
      "Epoch: 060/200 cost: 0.000040166\n",
      " TRAIN ACCURACY: 1.000\n",
      " TEST ACCURACY: 0.956\n"
     ]
    }
   ],
   "source": [
    "# PARAMETERS\n",
    "batch_size      = 50\n",
    "display_step    = 20\n",
    "training_epochs = 200\n",
    "\n",
    "# LAUNCH THE GRAPH\n",
    "sess = tf.Session()\n",
    "sess.run(init)\n",
    "for epoch in range(training_epochs):\n",
    "    avg_cost = 0.\n",
    "    num_batch = int(ntrain/batch_size)\n",
    "    for i in range(num_batch): \n",
    "        randidx  = np.random.randint(ntrain, size=batch_size)\n",
    "        batch_xs = trainimg[randidx, :]\n",
    "        batch_ys = trainlabel[randidx, :]                \n",
    "        feeds    = {x: batch_xs, y: batch_ys}\n",
    "        # OPTIMIZE VARIABLES\n",
    "        sess.run(optm, feed_dict=feeds)\n",
    "        # COMPUTE LOSS\n",
    "        avg_cost += sess.run(cost, feed_dict=feeds)/num_batch\n",
    "\n",
    "    # PRINT CURRENT STATUS\n",
    "    if epoch % display_step == 0:\n",
    "        print (\"Epoch: %03d/%03d cost: %.9f\" % \n",
    "               (epoch, training_epochs, avg_cost))\n",
    "        feeds = {x: trainimg, y: trainlabel}\n",
    "        train_acc = sess.run(accr, feed_dict=feeds)\n",
    "        feeds = {x: testimg, y: testlabel}\n",
    "        test_acc = sess.run(accr, feed_dict=feeds)\n",
    "        print (\" TRAIN ACCURACY: %.3f\" % (train_acc))\n",
    "        print (\" TEST ACCURACY: %.3f\" % (test_acc))\n",
    "print (\"OPTIMIZATION FINISHED\")"
   ]
  }
 ],
 "metadata": {
  "kernelspec": {
   "display_name": "Python 3",
   "language": "python",
   "name": "python3"
  },
  "language_info": {
   "codemirror_mode": {
    "name": "ipython",
    "version": 3
   },
   "file_extension": ".py",
   "mimetype": "text/x-python",
   "name": "python",
   "nbconvert_exporter": "python",
   "pygments_lexer": "ipython3",
   "version": "3.4.3"
  }
 },
 "nbformat": 4,
 "nbformat_minor": 0
}
